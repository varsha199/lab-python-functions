{
 "cells": [
  {
   "cell_type": "markdown",
   "id": "25d7736c-ba17-4aff-b6bb-66eba20fbf4e",
   "metadata": {},
   "source": [
    "# Lab | Functions"
   ]
  },
  {
   "cell_type": "markdown",
   "id": "0c581062-8967-4d93-b06e-62833222f930",
   "metadata": {
    "tags": []
   },
   "source": [
    "## Exercise: Managing Customer Orders with Functions\n",
    "\n",
    "In the previous exercise, you improved the code for managing customer orders by using loops and flow control. Now, let's take it a step further and refactor the code by introducing functions.\n",
    "\n",
    "Follow the steps below to complete the exercise:\n",
    "\n",
    "1. Define a function named `initialize_inventory` that takes `products` as a parameter. Inside the function, implement the code for initializing the inventory dictionary using a loop and user input.\n",
    "\n",
    "2. Define a function named `get_customer_orders` that takes no parameters. Inside the function, implement the code for prompting the user to enter the product names using a loop. The function should return the `customer_orders` set.\n",
    "\n",
    "3. Define a function named `update_inventory` that takes `customer_orders` and `inventory` as parameters. Inside the function, implement the code for updating the inventory dictionary based on the customer orders.\n",
    "\n",
    "4. Define a function named `calculate_order_statistics` that takes `customer_orders` and `products` as parameters. Inside the function, implement the code for calculating the order statistics (total products ordered, and percentage of unique products ordered). The function should return these values.\n",
    "\n",
    "5. Define a function named `print_order_statistics` that takes `order_statistics` as a parameter. Inside the function, implement the code for printing the order statistics.\n",
    "\n",
    "6. Define a function named `print_updated_inventory` that takes `inventory` as a parameter. Inside the function, implement the code for printing the updated inventory.\n",
    "\n",
    "7. Call the functions in the appropriate sequence to execute the program and manage customer orders.\n",
    "\n",
    "Hints for functions:\n",
    "\n",
    "- Consider the input parameters required for each function and their return values.\n",
    "- Utilize function parameters and return values to transfer data between functions.\n",
    "- Test your functions individually to ensure they work correctly.\n",
    "\n",
    "\n"
   ]
  },
  {
   "cell_type": "code",
   "execution_count": 3,
   "id": "dd6a2539",
   "metadata": {},
   "outputs": [],
   "source": [
    "def initialize_inventory(products):\n",
    "    inventory_dic = {}\n",
    "    for product in products:\n",
    "        quantity_of_product = int(input(f\"Enter the quantity of the {product}: \"))\n",
    "        inventory_dic[product] = quantity_of_product\n",
    "    return inventory_dic"
   ]
  },
  {
   "cell_type": "code",
   "execution_count": 4,
   "id": "ed6f4407",
   "metadata": {},
   "outputs": [
    {
     "data": {
      "text/plain": [
       "{'brush': 2, 'hat': 3, 'mug': 4, 'bucket': 5}"
      ]
     },
     "execution_count": 4,
     "metadata": {},
     "output_type": "execute_result"
    }
   ],
   "source": [
    "list_of_product = [\"brush\", \"hat\", \"mug\", \"bucket\"]\n",
    "initialize_inventory(list_of_product)\n"
   ]
  },
  {
   "cell_type": "code",
   "execution_count": 42,
   "id": "eb79f7b2",
   "metadata": {},
   "outputs": [],
   "source": [
    "def get_customer_orders() -> set:\n",
    "    customer_orders = set()\n",
    "    add_more_product = True\n",
    "    while add_more_product:\n",
    "        product_name = input(\"Enter the product name that you want to order: \")\n",
    "        add_product = input(\"Do you want to add another product? yes/no \").lower()\n",
    "        customer_orders.add(product_name)\n",
    "        if add_product == \"no\":\n",
    "            add_more_product = False\n",
    "    return customer_orders\n"
   ]
  },
  {
   "cell_type": "code",
   "execution_count": 6,
   "id": "ef29d7f6",
   "metadata": {},
   "outputs": [
    {
     "data": {
      "text/plain": [
       "{'mug'}"
      ]
     },
     "execution_count": 6,
     "metadata": {},
     "output_type": "execute_result"
    }
   ],
   "source": [
    "get_customer_orders()"
   ]
  },
  {
   "cell_type": "code",
   "execution_count": 7,
   "id": "fa45cb03",
   "metadata": {},
   "outputs": [],
   "source": [
    "def update_inventory(inventory: dict, customer_orders: set)-> dict:\n",
    "    for item in customer_orders:\n",
    "        if item in inventory and inventory[item] > 0:\n",
    "            inventory[item] -= 1\n",
    "        else:\n",
    "            print(f\"{item} not available\")\n",
    "    return inventory"
   ]
  },
  {
   "cell_type": "code",
   "execution_count": 8,
   "id": "07dd7a52",
   "metadata": {},
   "outputs": [
    {
     "data": {
      "text/plain": [
       "{'brush': 2, 'hat': 3, 'mug': 3, 'bucket': 5}"
      ]
     },
     "execution_count": 8,
     "metadata": {},
     "output_type": "execute_result"
    }
   ],
   "source": [
    "update_inventory(initialize_inventory(list_of_product), get_customer_orders())"
   ]
  },
  {
   "cell_type": "code",
   "execution_count": 9,
   "id": "c3335f6d",
   "metadata": {},
   "outputs": [],
   "source": [
    "def calculate_order_statistics(customer_orders: set, products: list):\n",
    "    total_products_ordered = len(customer_orders)\n",
    "    total_products_available = len(products)\n",
    "    percentage_of_unique_products_ordered = (total_products_ordered / total_products_available)*100\n",
    "    return total_products_ordered, percentage_of_unique_products_ordered"
   ]
  },
  {
   "cell_type": "code",
   "execution_count": 10,
   "id": "a0729f36",
   "metadata": {},
   "outputs": [
    {
     "data": {
      "text/plain": [
       "(1, 25.0)"
      ]
     },
     "execution_count": 10,
     "metadata": {},
     "output_type": "execute_result"
    }
   ],
   "source": [
    "calculate_order_statistics(get_customer_orders(), initialize_inventory(list_of_product))"
   ]
  },
  {
   "cell_type": "code",
   "execution_count": 11,
   "id": "aeedc565",
   "metadata": {},
   "outputs": [],
   "source": [
    "def print_order_statistics(order_statistics: tuple):\n",
    "    print(f\"Total products ordered:{order_statistics[0]}\")\n",
    "    print(f\"Percentage of unique products ordered:{order_statistics[1]}\")"
   ]
  },
  {
   "cell_type": "code",
   "execution_count": 12,
   "id": "4e0f8462",
   "metadata": {},
   "outputs": [
    {
     "name": "stdout",
     "output_type": "stream",
     "text": [
      "Total products ordered:1\n",
      "Percentage of unique products ordered:25.0\n"
     ]
    }
   ],
   "source": [
    "print_order_statistics(calculate_order_statistics(get_customer_orders(), initialize_inventory(list_of_product)))"
   ]
  },
  {
   "cell_type": "code",
   "execution_count": 65,
   "id": "ae51a02c",
   "metadata": {},
   "outputs": [],
   "source": [
    "def print_updated_inventory(inventory):\n",
    "    for key,value in inventory.items():\n",
    "        print(f\"The updated inventory dictionary is {key}, {value}\")\n",
    "    "
   ]
  },
  {
   "cell_type": "code",
   "execution_count": 53,
   "id": "b926e091",
   "metadata": {},
   "outputs": [
    {
     "name": "stdout",
     "output_type": "stream",
     "text": [
      "gloves not available\n",
      "brush 9\n",
      "hat 20\n",
      "mug 3040\n",
      "bucket 50\n"
     ]
    }
   ],
   "source": [
    "print_updated_inventory(update_inventory(initialize_inventory(list_of_product), get_customer_orders()))"
   ]
  },
  {
   "cell_type": "code",
   "execution_count": 66,
   "id": "de6b3587",
   "metadata": {},
   "outputs": [
    {
     "name": "stdout",
     "output_type": "stream",
     "text": [
      "{'brush': 10, 'hat': 20, 'mug': 30, 'bucket': 40}\n",
      "{'bucket'}\n",
      "The updated inventory dictionary is brush, 10\n",
      "The updated inventory dictionary is hat, 20\n",
      "The updated inventory dictionary is mug, 30\n",
      "The updated inventory dictionary is bucket, 39\n",
      "Total products ordered:1\n",
      "Percentage of unique products ordered:25.0\n"
     ]
    }
   ],
   "source": [
    "inventory = initialize_inventory(list_of_product)\n",
    "print(inventory)\n",
    "customer_orders = get_customer_orders()\n",
    "print(customer_orders)\n",
    "print_update_inventory = print_updated_inventory(update_inventory(inventory, customer_orders))\n",
    "order_stats = calculate_order_statistics(customer_orders, inventory)\n",
    "print_order_stats = print_order_statistics(calculate_order_statistics(customer_orders, inventory))\n",
    "\n"
   ]
  }
 ],
 "metadata": {
  "kernelspec": {
   "display_name": "base",
   "language": "python",
   "name": "python3"
  },
  "language_info": {
   "codemirror_mode": {
    "name": "ipython",
    "version": 3
   },
   "file_extension": ".py",
   "mimetype": "text/x-python",
   "name": "python",
   "nbconvert_exporter": "python",
   "pygments_lexer": "ipython3",
   "version": "3.12.7"
  }
 },
 "nbformat": 4,
 "nbformat_minor": 5
}
